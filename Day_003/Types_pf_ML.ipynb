{
  "cells": [
    {
      "cell_type": "markdown",
      "metadata": {
        "id": "z-CVCTmR7zzM"
      },
      "source": [
        "# Day 003"
      ]
    },
    {
      "cell_type": "markdown",
      "metadata": {
        "id": "hLjwkhvF8Rfm"
      },
      "source": [
        "# Types of ML\n",
        "```\n",
        "There are 4 types of ML\n",
        "1. Supervised learning:\n",
        "2. Unsupervised learning:\n",
        "3. Semi-supervised learning:\n",
        "4. Reinforcement learning:\n",
        "```"
      ]
    },
    {
      "cell_type": "markdown",
      "metadata": {
        "id": "8X2Gf4xC834P"
      },
      "source": [
        "## 1. Supervised learning:\n",
        "```\n",
        "Uses labeled data where the desired output is already known,\n",
        "allowing the model to learn the relationship between input and output variables\n",
        "\n",
        "I have Input + Output data and i have to find out the relationship between them.\n",
        "\n",
        "Types of Supervised Learning\n",
        "1. Regression\n",
        "2. Classification\n",
        "```"
      ]
    },
    {
      "cell_type": "markdown",
      "metadata": {
        "id": "1MVO3wDh83u-"
      },
      "source": [
        " ## 2. Unsupervised learning:\n",
        "\n",
        " ```\n",
        "Works with unlabeled data, where the model must discover patterns and\n",
        "relationships within the data without explicit guidance.\n",
        "\n",
        "Here we haven't Output features\n",
        "\n",
        "Types of Unsupervised Learning\n",
        "1. Clustering\n",
        "2. Dimensionality reduction:\n",
        "3. Association rules\n",
        "4. Anomaly Detection\n",
        "\n",
        " ```"
      ]
    },
    {
      "cell_type": "markdown",
      "metadata": {
        "id": "ZEkiNDDL83lz"
      },
      "source": [
        "### 2.1 Claustering\n",
        "\n",
        "```\n",
        "Clustering, also known as cluster analysis, is a technique of grouping similar sets of objects \n",
        "in the same group that is different from the objects in other group.\n",
        "```"
      ]
    },
    {
      "cell_type": "markdown",
      "metadata": {},
      "source": [
        "### 2.2 Dimensionality Reduction\n",
        "\n",
        "```\n",
        "Dimensionality reduction is a process that changes data from a high-dimensional space to a lower-dimensional space. \n",
        "The goal is to retain the most important properties of the original data while reducing its complexity. \n",
        "```"
      ]
    },
    {
      "cell_type": "markdown",
      "metadata": {},
      "source": [
        "### 2.3 Association Rules\n",
        "\n",
        "```\n",
        "\"Association rules\" are considered a type of unsupervised learning technique, where the goal is to discover interesting relationships and patterns between variables in a dataset without any labeled target values\n",
        "````"
      ]
    },
    {
      "cell_type": "markdown",
      "metadata": {},
      "source": [
        "### 2.4 Anomaly Detection\n",
        "\n",
        "```\n",
        "An anomaly is basically something that’s unusual, doesn’t fit the usual pattern, \n",
        "or stands out because it’s different in a specific category or situation.\n",
        "```"
      ]
    }
  ],
  "metadata": {
    "colab": {
      "provenance": []
    },
    "kernelspec": {
      "display_name": "Python 3",
      "name": "python3"
    },
    "language_info": {
      "name": "python"
    }
  },
  "nbformat": 4,
  "nbformat_minor": 0
}
