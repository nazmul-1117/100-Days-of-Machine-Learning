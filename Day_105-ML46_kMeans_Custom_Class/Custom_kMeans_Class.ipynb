{
  "nbformat": 4,
  "nbformat_minor": 0,
  "metadata": {
    "colab": {
      "provenance": []
    },
    "kernelspec": {
      "name": "python3",
      "display_name": "Python 3"
    },
    "language_info": {
      "name": "python"
    }
  },
  "cells": [
    {
      "cell_type": "markdown",
      "source": [
        "# Import Libraries"
      ],
      "metadata": {
        "id": "rpJrXMVyaSoe"
      }
    },
    {
      "cell_type": "code",
      "source": [
        "import pandas as pd\n",
        "import numpy as np\n",
        "import matplotlib.pyplot as plt\n",
        "import seaborn as sns\n",
        "%matplotlib inline"
      ],
      "metadata": {
        "id": "rX1aj-9tbFY1"
      },
      "execution_count": 9,
      "outputs": []
    },
    {
      "cell_type": "code",
      "source": [
        "from sklearn.datasets import make_blobs\n",
        "from sklearn.cluster import KMeans"
      ],
      "metadata": {
        "id": "VG4xtZgIbmOM"
      },
      "execution_count": 10,
      "outputs": []
    },
    {
      "cell_type": "code",
      "source": [
        "import random\n",
        "import os"
      ],
      "metadata": {
        "id": "maTMJX-ObJAI"
      },
      "execution_count": 11,
      "outputs": []
    },
    {
      "cell_type": "markdown",
      "source": [
        "# Custome Class"
      ],
      "metadata": {
        "id": "0Iv3ExyhbXwU"
      }
    },
    {
      "cell_type": "code",
      "source": [
        "class KMeans:\n",
        "    def __init__(self,n_clusters=2,max_iter=100):\n",
        "        self.n_clusters = n_clusters\n",
        "        self.max_iter = max_iter\n",
        "        self.centroids = None\n",
        "\n",
        "    def fit_predict(self,X):\n",
        "\n",
        "        random_index = random.sample(range(0,X.shape[0]),self.n_clusters)\n",
        "        self.centroids = X[random_index]\n",
        "\n",
        "        for i in range(self.max_iter):\n",
        "            # assign clusters\n",
        "            cluster_group = self.assign_clusters(X)\n",
        "            old_centroids = self.centroids\n",
        "            # move centroids\n",
        "            self.centroids = self.move_centroids(X,cluster_group)\n",
        "            # check finish\n",
        "            if (old_centroids == self.centroids).all():\n",
        "                break\n",
        "\n",
        "        return cluster_group\n",
        "\n",
        "    def assign_clusters(self,X):\n",
        "        cluster_group = []\n",
        "        distances = []\n",
        "\n",
        "        for row in X:\n",
        "            for centroid in self.centroids:\n",
        "                distances.append(np.sqrt(np.dot(row-centroid,row-centroid)))\n",
        "            min_distance = min(distances)\n",
        "            index_pos = distances.index(min_distance)\n",
        "            cluster_group.append(index_pos)\n",
        "            distances.clear()\n",
        "\n",
        "        return np.array(cluster_group)\n",
        "\n",
        "    def move_centroids(self,X,cluster_group):\n",
        "        new_centroids = []\n",
        "\n",
        "        cluster_type = np.unique(cluster_group)\n",
        "\n",
        "        for type in cluster_type:\n",
        "            new_centroids.append(X[cluster_group == type].mean(axis=0))\n",
        "\n",
        "        return np.array(new_centroids)\n"
      ],
      "metadata": {
        "id": "fqi4EzbsbVHm"
      },
      "execution_count": 12,
      "outputs": []
    },
    {
      "cell_type": "markdown",
      "source": [
        "# Main Code"
      ],
      "metadata": {
        "id": "4f0hRpEIbZry"
      }
    },
    {
      "cell_type": "code",
      "source": [
        "df = pd.read_csv('student_clustering.csv')\n",
        "\n",
        "X = df.iloc[:,:].values\n",
        "\n",
        "km = KMeans(n_clusters=4,max_iter=500)\n",
        "y_means = km.fit_predict(X)\n",
        "\n",
        "plt.scatter(X[y_means == 0,0],X[y_means == 0,1],color='red')\n",
        "plt.scatter(X[y_means == 1,0],X[y_means == 1,1],color='blue')\n",
        "plt.scatter(X[y_means == 2,0],X[y_means == 2,1],color='green')\n",
        "plt.scatter(X[y_means == 3,0],X[y_means == 3,1],color='yellow')\n",
        "plt.show()"
      ],
      "metadata": {
        "colab": {
          "base_uri": "https://localhost:8080/",
          "height": 430
        },
        "id": "QMPhQhTabiI4",
        "outputId": "0d707f2c-4758-453a-b699-4a471da4a50c"
      },
      "execution_count": 13,
      "outputs": [
        {
          "output_type": "display_data",
          "data": {
            "text/plain": [
              "<Figure size 640x480 with 1 Axes>"
            ],
            "image/png": "[encoded data removed]"
          },
          "metadata": {}
        }
      ]
    },
    {
      "cell_type": "code",
      "source": [],
      "metadata": {
        "id": "42zkg9_Nbtc2"
      },
      "execution_count": 13,
      "outputs": []
    }
  ]
}